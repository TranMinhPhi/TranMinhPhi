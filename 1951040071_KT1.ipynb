{
  "nbformat": 4,
  "nbformat_minor": 0,
  "metadata": {
    "colab": {
      "name": "1951040071_KT1.ipynb",
      "provenance": [],
      "collapsed_sections": []
    },
    "kernelspec": {
      "name": "python3",
      "display_name": "Python 3"
    },
    "language_info": {
      "name": "python"
    }
  },
  "cells": [
    {
      "cell_type": "markdown",
      "metadata": {
        "id": "_rfRjbXlBlMh"
      },
      "source": [
        "**Bài thực hành lập trình lần 1**"
      ]
    },
    {
      "cell_type": "markdown",
      "metadata": {
        "id": "6pw0PE_oBxet"
      },
      "source": [
        "**Yêu cầu ban đầu**\n",
        "Tạo một file Jupyter notebook với tên <\"MSSV\">_KT1.ipynb và tải lên thư mục trên google drive. Sau đó mở bằng google colab trên trình duyệt."
      ]
    },
    {
      "cell_type": "markdown",
      "metadata": {
        "id": "_9fEJ6-vNdal"
      },
      "source": [
        "**Sau khi làm xong thì lưu file này vào trong thư mục google drive và chia sẻ cho giảng viên đồng thời upload vào trang repo của mình.**\n",
        "\n",
        "\n"
      ]
    },
    {
      "cell_type": "markdown",
      "metadata": {
        "id": "d6s787UyDEfv"
      },
      "source": [
        "Bước 1. Tạo một cell trong jupyter notebook và gõ đoạn code sau để kết nối Jupyter notebook với google drive"
      ]
    },
    {
      "cell_type": "code",
      "metadata": {
        "id": "BjZp1htHDf44"
      },
      "source": [
        "from google.colab import drive\n",
        "#mount đến thư mục chứa file <\"MSSV\">_KT1.ipynb, ví dụ /gdrive/myname\n",
        "drive.mount('/gdrive/myname')"
      ],
      "execution_count": null,
      "outputs": []
    },
    {
      "cell_type": "markdown",
      "metadata": {
        "id": "6Yag_eufEEHg"
      },
      "source": [
        "**Câu 1:** Viết vào cell dưới đây chương trình Python nhận dữ liệu ngõ vào là một số nguyên dương. Nếu số nhập là số chẵn, sẽ in ra màn hình kết quả đoạn thông báo\"Đây là số chẵn\", nếu là số lẻ sẽ có thông báo \"Đây là số lẻ\""
      ]
    },
    {
      "cell_type": "code",
      "metadata": {
        "id": "F4SKEKRnEBIg"
      },
      "source": [
        "def check_odd_even(n):\n",
        "    #flag = 1 => số lẻ \n",
        "    #flag = 0 => số chẵn\n",
        "\n",
        "    flag = 1;\n",
        "    if( n % 2 == 0):\n",
        "        flag= 0;\n",
        "    return flag;  \n",
        "\n",
        "n = int(input(\">> Hay nhap mot so nguyen dương: \"))\n",
        "\n",
        "check = check_odd_even(n);\n",
        " \n",
        "if check == 1:\n",
        "    print(n,\"Day la so le\")\n",
        "else:\n",
        "    print(n,\"Day la so chan\")"
      ],
      "execution_count": null,
      "outputs": []
    },
    {
      "cell_type": "markdown",
      "metadata": {
        "id": "z7IJt_RRE8II"
      },
      "source": [
        "**Câu 2**: Viết chương trình nhận số nguyên tố từ bàn phím với thông báo \"Bạn hãy nhập vào 1 số nguyên tố duy nhất\". Nếu đó là số nguyên tố thì dừng, nếu không thì chương trình sẽ liên tục in ra dòng thông báo \"Xin hãy nhập lại: \" để yêu cầu người dùng nhập, và sẽ chỉ kết thúc khi nhận được một số là số nguyên tố"
      ]
    },
    {
      "cell_type": "code",
      "metadata": {
        "id": "XO0ZRAJFBiNr",
        "colab": {
          "base_uri": "https://localhost:8080/"
        },
        "outputId": "4367ff3c-3363-4105-91be-b93010fc5c49"
      },
      "source": [
        "def check_number(n):\n",
        "  for i in range(2,n):\n",
        "     if n % i == 0:\n",
        "       return False\n",
        "       return True\n",
        "while True:\n",
        "   n = int(input(\"Hãy nhập vào 1 số nguyên tố duy nhất: \")) \n",
        "   if check_number(n) == True:\n",
        "       print(\"Đây là số nguyên tố\")\n",
        "   elif check_number(n) == False:\n",
        "     print(\"Xin hãy nhập lại:\")\n",
        "   else:\n",
        "     break"
      ],
      "execution_count": null,
      "outputs": [
        {
          "name": "stdout",
          "output_type": "stream",
          "text": [
            "Hãy nhập vào 1 số nguyên tố duy nhất: 64\n",
            "Xin hãy nhập lại:\n",
            "Hãy nhập vào 1 số nguyên tố duy nhất: 32\n",
            "Xin hãy nhập lại:\n",
            "Hãy nhập vào 1 số nguyên tố duy nhất: 3\n"
          ]
        }
      ]
    },
    {
      "cell_type": "markdown",
      "metadata": {
        "id": "qFR5oEhrF55C"
      },
      "source": [
        "**Câu 3:** Viết chương trình Python gồm một hàm có đối số là một mảng (list), chương trình sẽ in ra một mảng nghịch đảo thứ tự của mảng đầu vào. Giả sử mảng đầu vào cho trước"
      ]
    },
    {
      "cell_type": "code",
      "metadata": {
        "id": "vDb56hjKGc4L",
        "colab": {
          "base_uri": "https://localhost:8080/"
        },
        "outputId": "ad20c101-7cb0-4570-ef6b-7b986f70bd9c"
      },
      "source": [
        "array=[1,2,3,4,5,6]\n",
        "def inverse_array(k):\n",
        "  print(list(reversed(array)))\n",
        "inverse_array(array)"
      ],
      "execution_count": null,
      "outputs": [
        {
          "output_type": "stream",
          "name": "stdout",
          "text": [
            "[6, 5, 4, 3, 2, 1]\n"
          ]
        }
      ]
    },
    {
      "cell_type": "markdown",
      "metadata": {
        "id": "LLQniWZkGqBC"
      },
      "source": [
        "**Câu 4:** Viết chương trình in ra dãy Fibonaci với điều kiện số cuối nhỏ hơn một số nguyên dương cho trước được nhập ban đầu từ bàn phím"
      ]
    },
    {
      "cell_type": "code",
      "metadata": {
        "id": "ZY3aZ7IVGpSc",
        "colab": {
          "base_uri": "https://localhost:8080/"
        },
        "outputId": "3f1b1a75-8491-43aa-cdb6-e199f7177d12"
      },
      "source": [
        "num = int(input(\"nhập số nguyên dương:\"))\n",
        "n1, n2 = 0, 1\n",
        "sum = 0\n",
        "if num <= 0:\n",
        "    print('hãy nhập số lớn hơn số 0')\n",
        "else:\n",
        "    for i in range(0, num):\n",
        "        print(sum, end=\" \")\n",
        "        n1 = n2\n",
        "        n2 = sum\n",
        "        sum = n1 + n2\n",
        "print('hoàn thành')"
      ],
      "execution_count": null,
      "outputs": [
        {
          "output_type": "stream",
          "name": "stdout",
          "text": [
            "nhập số nguyên dương:2\n",
            "0 1 hoàn thành\n"
          ]
        }
      ]
    },
    {
      "cell_type": "markdown",
      "metadata": {
        "id": "Qo8Li1BhHNkC"
      },
      "source": [
        "**Câu 5:** Viết chương trình nhập từ bàn phím một dãy n số phức gồm phần thực và ảo, với n được nhập từ bàn phím. Sau đó in ra màn hình một mảng n phần tử là các module của dãy số phức tương ứng"
      ]
    },
    {
      "cell_type": "code",
      "metadata": {
        "id": "czIWSxB4KlqS"
      },
      "source": [
        "#Khai báo thư viện cmath cho số phức\n",
        "import cmath\n",
        "\n",
        "#Tạo hàm dùng để nhập dãy số phức như mong muốn\n",
        "#GỢI Ý\n",
        "def complex_generator():\n",
        "  #Khởi tạo mảng số phức rỗng\n",
        "  complex_array = []\n",
        "  n=input(\" <Nội dung tùy ý>\": )\n",
        "  ....\n",
        "  #tạo vòng lặp trong phần code nay với số lần lặp n như trên\n",
        "  for i in range(int(n)):\n",
        "    # ở mỗi chu kỳ nhận dữ liệu từ bàn phím cho phần ảo và thực (nhập riêng sử dụng lệnh input)\n",
        "    #Nhập phần thực\n",
        "    ... \n",
        "    #Nhập phần ảo\n",
        "    ...\n",
        "    #Thêm vào màng số phức phần tử số phức đã nhập, biết rằng số phức có thể được tạo bởi hàm complex(m,n), với m,n là phần thực ảo tương ứng\n",
        "    complex_array.append(complex(m,n))\n",
        "  #Kết thúc vòng lặp, trả về mảng\n",
        "  return complex_array\n",
        "\n",
        "#Viết hàm thứ hai dùng để tính module số phức\n",
        "#hàm có đối số là số phức c\n",
        "def module_complex(c):\n",
        "  #c.real và c.imag sẽ trả về hai đại lượng thực và ảo tương ứng của số phức c\n",
        "  return cmath.sqrt((c.real)**2+(c.imag)**2).real\n",
        "\n",
        "#Viết chương trình tiếp để gọi hàm khởi tạo bên trên và trả về module tương ứng\n"
      ],
      "execution_count": null,
      "outputs": []
    },
    {
      "cell_type": "markdown",
      "metadata": {
        "id": "iW8HDvwdBjTO"
      },
      "source": [
        ""
      ]
    }
  ]
}